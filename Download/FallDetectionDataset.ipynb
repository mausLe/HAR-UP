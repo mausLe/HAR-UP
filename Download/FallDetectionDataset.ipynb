{
  "nbformat": 4,
  "nbformat_minor": 0,
  "metadata": {
    "colab": {
      "name": "FallDetectionDataset.ipynb",
      "provenance": [],
      "collapsed_sections": []
    },
    "kernelspec": {
      "name": "python3",
      "display_name": "Python 3"
    }
  },
  "cells": [
    {
      "cell_type": "markdown",
      "metadata": {
        "id": "OC33ARKVbKvS"
      },
      "source": [
        ""
      ]
    },
    {
      "cell_type": "markdown",
      "metadata": {
        "id": "UqUIBnq3iIUC"
      },
      "source": [
        "# Mount dataset folder from @gm.uit.edu.vn account"
      ]
    },
    {
      "cell_type": "markdown",
      "metadata": {
        "id": "JPBPpQQ-sSMB"
      },
      "source": [
        ""
      ]
    },
    {
      "cell_type": "code",
      "metadata": {
        "id": "eg-nFfnlh9e7",
        "colab": {
          "base_uri": "https://localhost:8080/"
        },
        "outputId": "0e439de0-5653-4862-de6e-30765e28cd91"
      },
      "source": [
        "from google.colab import drive, files\n",
        "drive.mount('/content/gdrive')\n",
        "\n",
        "FOLDERNAME = '/content/gdrive/My\\ Drive/B2DL-Research/Fall-Detection/Datasets/'\n",
        "\n",
        "assert FOLDERNAME is not None, \"[!] Enter the foldername.\""
      ],
      "execution_count": 1,
      "outputs": [
        {
          "output_type": "stream",
          "text": [
            "Mounted at /content/gdrive\n"
          ],
          "name": "stdout"
        }
      ]
    },
    {
      "cell_type": "code",
      "metadata": {
        "id": "8CndjwmdjIE-"
      },
      "source": [
        "!mkdir test"
      ],
      "execution_count": 2,
      "outputs": []
    },
    {
      "cell_type": "code",
      "metadata": {
        "id": "7y0PhJz3s7xT"
      },
      "source": [
        "!rm -rf *"
      ],
      "execution_count": 12,
      "outputs": []
    },
    {
      "cell_type": "markdown",
      "metadata": {
        "id": "62DagqCRvtrd"
      },
      "source": [
        ""
      ]
    },
    {
      "cell_type": "code",
      "metadata": {
        "id": "VuADIVvjsnKg"
      },
      "source": [
        "\n",
        "!mkdir -p Subject{1..2}/Activity{1..2}/Trial{1..3}"
      ],
      "execution_count": 13,
      "outputs": []
    },
    {
      "cell_type": "markdown",
      "metadata": {
        "id": "E63VAwYlI2Nc"
      },
      "source": [
        "# Download UP Fall detection dataset"
      ]
    },
    {
      "cell_type": "code",
      "metadata": {
        "id": "w75Z1trbrcqC"
      },
      "source": [
        "!ls"
      ],
      "execution_count": null,
      "outputs": []
    },
    {
      "cell_type": "code",
      "metadata": {
        "id": "L4Yumk8JJAYl",
        "colab": {
          "base_uri": "https://localhost:8080/"
        },
        "outputId": "503f8add-924c-4d82-8aa6-739944fd2147"
      },
      "source": [
        "FOLDERNAME = '/content/gdrive/My\\ Drive/B2DL-Research/Fall-Detection/Datasets/UP-Fall DetectionDetection/HAR_UP instructions'\n",
        "%cd $FOLDERNAME"
      ],
      "execution_count": null,
      "outputs": [
        {
          "output_type": "stream",
          "text": [
            "[Errno 2] No such file or directory: '/content/gdrive/My Drive/B2DL-Research/Fall-Detection/Datasets/UP-Fall DetectionDetection/HAR_UP instructions'\n",
            "/content/gdrive/My Drive/B2DL-Research/Fall-Detection/Datasets/UP-Fall Detection\n"
          ],
          "name": "stdout"
        }
      ]
    },
    {
      "cell_type": "markdown",
      "metadata": {
        "id": "_JDsV1kMJOCi"
      },
      "source": [
        "# Test"
      ]
    },
    {
      "cell_type": "code",
      "metadata": {
        "id": "Bz22ZqWmzprM"
      },
      "source": [
        "import pandas as pd"
      ],
      "execution_count": 15,
      "outputs": []
    },
    {
      "cell_type": "code",
      "metadata": {
        "id": "imtwCS30zM1q"
      },
      "source": [
        "df = pd.read_csv(\"/content/HAR_UP_HFD_dataset.csv\", index_col=0)\n",
        "dfCam = df[[\"Camera1\", \"Camera2\"]]"
      ],
      "execution_count": 62,
      "outputs": []
    },
    {
      "cell_type": "code",
      "metadata": {
        "colab": {
          "base_uri": "https://localhost:8080/"
        },
        "id": "YWJfeF3n5KNm",
        "outputId": "dacb61ad-8943-4687-8efe-5ccdd69930ff"
      },
      "source": [
        "for i in range(3):\n",
        "    pre1 = df.iloc[i, 0] + \"&export=download\"\n",
        "    pre2 = df.iloc[i, 1] + \"&export=download\"\n",
        "\n",
        "    post1 =  \"/content/test/Subject1/Activity1/Trial\" + str(i) + \"/Camera1.zip\"\n",
        "    post2 =  \"/content/test/Subject1/Activity1/Trial\" + str(i) + \"/Camera2.zip\"\n",
        "    \n",
        "    # !wget pre1 -O post1\n",
        "    # !wget pre2 -O post2\n"
      ],
      "execution_count": 75,
      "outputs": [
        {
          "output_type": "stream",
          "text": [
            "https://drive.google.com/a/up.edu.mx/uc?id=1-qsLb3ubU_MZ5-TO3e-AAg89cgBzEPZX&export=download\n",
            "https://drive.google.com/a/up.edu.mx/uc?id=1sus2ns7kwoZPOcrKkwOhaKZObSBvuNXM&export=download\n",
            "https://drive.google.com/a/up.edu.mx/uc?id=1R8QMjUFjKt0ZzL-_pFzOtTM_ZSVpIXx4&export=download\n"
          ],
          "name": "stdout"
        }
      ]
    },
    {
      "cell_type": "code",
      "metadata": {
        "colab": {
          "base_uri": "https://localhost:8080/"
        },
        "id": "vK3JjwtsBIir",
        "outputId": "67301aeb-f640-4608-dfda-48374aba6bb9"
      },
      "source": [
        "%cd /content/test1\n",
        "\n",
        "!rm -rf *"
      ],
      "execution_count": 102,
      "outputs": [
        {
          "output_type": "stream",
          "text": [
            "/content/test1\n"
          ],
          "name": "stdout"
        }
      ]
    },
    {
      "cell_type": "code",
      "metadata": {
        "colab": {
          "base_uri": "https://localhost:8080/"
        },
        "id": "kYlt7fYd6f5j",
        "outputId": "74559fab-ddfb-4e3d-d1e6-f968aba44615"
      },
      "source": [
        "x = dfCam.iloc[0, 1] + \"&export=download\"\n",
        "!wget \"$x\"  -O abc.zip\n"
      ],
      "execution_count": 104,
      "outputs": [
        {
          "output_type": "stream",
          "text": [
            "--2020-11-30 16:50:24--  https://drive.google.com/a/up.edu.mx/uc?id=1Lh9EMMbDu1Z8yooJVXc4FeAHrOFuR2NL&export=download\n",
            "Resolving drive.google.com (drive.google.com)... 74.125.195.113, 74.125.195.101, 74.125.195.139, ...\n",
            "Connecting to drive.google.com (drive.google.com)|74.125.195.113|:443... connected.\n",
            "HTTP request sent, awaiting response... 302 Moved Temporarily\n",
            "Location: https://doc-00-7s-docs.googleusercontent.com/docs/securesc/ha0ro937gcuc7l7deffksulhg5h7mbp1/kes4is5b760mc3j5mlids3mhip7coiat/1606755000000/07668329024273264871/*/1Lh9EMMbDu1Z8yooJVXc4FeAHrOFuR2NL?e=download [following]\n",
            "Warning: wildcards not supported in HTTP.\n",
            "--2020-11-30 16:50:25--  https://doc-00-7s-docs.googleusercontent.com/docs/securesc/ha0ro937gcuc7l7deffksulhg5h7mbp1/kes4is5b760mc3j5mlids3mhip7coiat/1606755000000/07668329024273264871/*/1Lh9EMMbDu1Z8yooJVXc4FeAHrOFuR2NL?e=download\n",
            "Resolving doc-00-7s-docs.googleusercontent.com (doc-00-7s-docs.googleusercontent.com)... 74.125.195.132, 2607:f8b0:400e:c09::84\n",
            "Connecting to doc-00-7s-docs.googleusercontent.com (doc-00-7s-docs.googleusercontent.com)|74.125.195.132|:443... connected.\n",
            "HTTP request sent, awaiting response... 200 OK\n",
            "Length: unspecified [file/zip]\n",
            "Saving to: ‘abc.zip’\n",
            "\n",
            "abc.zip                 [  <=>               ]  90.47M   263MB/s    in 0.3s    \n",
            "\n",
            "2020-11-30 16:50:26 (263 MB/s) - ‘abc.zip’ saved [94864107]\n",
            "\n"
          ],
          "name": "stdout"
        }
      ]
    },
    {
      "cell_type": "code",
      "metadata": {
        "colab": {
          "base_uri": "https://localhost:8080/"
        },
        "id": "jK6UiIogDLng",
        "outputId": "94d07e54-1018-4ede-ad1e-ca8ec674f2eb"
      },
      "source": [
        "!wget --help"
      ],
      "execution_count": 98,
      "outputs": [
        {
          "output_type": "stream",
          "text": [
            "GNU Wget 1.19.4, a non-interactive network retriever.\n",
            "Usage: wget [OPTION]... [URL]...\n",
            "\n",
            "Mandatory arguments to long options are mandatory for short options too.\n",
            "\n",
            "Startup:\n",
            "  -V,  --version                   display the version of Wget and exit\n",
            "  -h,  --help                      print this help\n",
            "  -b,  --background                go to background after startup\n",
            "  -e,  --execute=COMMAND           execute a `.wgetrc'-style command\n",
            "\n",
            "Logging and input file:\n",
            "  -o,  --output-file=FILE          log messages to FILE\n",
            "  -a,  --append-output=FILE        append messages to FILE\n",
            "  -d,  --debug                     print lots of debugging information\n",
            "  -q,  --quiet                     quiet (no output)\n",
            "  -v,  --verbose                   be verbose (this is the default)\n",
            "  -nv, --no-verbose                turn off verboseness, without being quiet\n",
            "       --report-speed=TYPE         output bandwidth as TYPE.  TYPE can be bits\n",
            "  -i,  --input-file=FILE           download URLs found in local or external FILE\n",
            "  -F,  --force-html                treat input file as HTML\n",
            "  -B,  --base=URL                  resolves HTML input-file links (-i -F)\n",
            "                                     relative to URL\n",
            "       --config=FILE               specify config file to use\n",
            "       --no-config                 do not read any config file\n",
            "       --rejected-log=FILE         log reasons for URL rejection to FILE\n",
            "\n",
            "Download:\n",
            "  -t,  --tries=NUMBER              set number of retries to NUMBER (0 unlimits)\n",
            "       --retry-connrefused         retry even if connection is refused\n",
            "  -O,  --output-document=FILE      write documents to FILE\n",
            "  -nc, --no-clobber                skip downloads that would download to\n",
            "                                     existing files (overwriting them)\n",
            "       --no-netrc                  don't try to obtain credentials from .netrc\n",
            "  -c,  --continue                  resume getting a partially-downloaded file\n",
            "       --start-pos=OFFSET          start downloading from zero-based position OFFSET\n",
            "       --progress=TYPE             select progress gauge type\n",
            "       --show-progress             display the progress bar in any verbosity mode\n",
            "  -N,  --timestamping              don't re-retrieve files unless newer than\n",
            "                                     local\n",
            "       --no-if-modified-since      don't use conditional if-modified-since get\n",
            "                                     requests in timestamping mode\n",
            "       --no-use-server-timestamps  don't set the local file's timestamp by\n",
            "                                     the one on the server\n",
            "  -S,  --server-response           print server response\n",
            "       --spider                    don't download anything\n",
            "  -T,  --timeout=SECONDS           set all timeout values to SECONDS\n",
            "       --dns-timeout=SECS          set the DNS lookup timeout to SECS\n",
            "       --connect-timeout=SECS      set the connect timeout to SECS\n",
            "       --read-timeout=SECS         set the read timeout to SECS\n",
            "  -w,  --wait=SECONDS              wait SECONDS between retrievals\n",
            "       --waitretry=SECONDS         wait 1..SECONDS between retries of a retrieval\n",
            "       --random-wait               wait from 0.5*WAIT...1.5*WAIT secs between retrievals\n",
            "       --no-proxy                  explicitly turn off proxy\n",
            "  -Q,  --quota=NUMBER              set retrieval quota to NUMBER\n",
            "       --bind-address=ADDRESS      bind to ADDRESS (hostname or IP) on local host\n",
            "       --limit-rate=RATE           limit download rate to RATE\n",
            "       --no-dns-cache              disable caching DNS lookups\n",
            "       --restrict-file-names=OS    restrict chars in file names to ones OS allows\n",
            "       --ignore-case               ignore case when matching files/directories\n",
            "  -4,  --inet4-only                connect only to IPv4 addresses\n",
            "  -6,  --inet6-only                connect only to IPv6 addresses\n",
            "       --prefer-family=FAMILY      connect first to addresses of specified family,\n",
            "                                     one of IPv6, IPv4, or none\n",
            "       --user=USER                 set both ftp and http user to USER\n",
            "       --password=PASS             set both ftp and http password to PASS\n",
            "       --ask-password              prompt for passwords\n",
            "       --use-askpass=COMMAND       specify credential handler for requesting \n",
            "                                     username and password.  If no COMMAND is \n",
            "                                     specified the WGET_ASKPASS or the SSH_ASKPASS \n",
            "                                     environment variable is used.\n",
            "       --no-iri                    turn off IRI support\n",
            "       --local-encoding=ENC        use ENC as the local encoding for IRIs\n",
            "       --remote-encoding=ENC       use ENC as the default remote encoding\n",
            "       --unlink                    remove file before clobber\n",
            "       --xattr                     turn on storage of metadata in extended file attributes\n",
            "\n",
            "Directories:\n",
            "  -nd, --no-directories            don't create directories\n",
            "  -x,  --force-directories         force creation of directories\n",
            "  -nH, --no-host-directories       don't create host directories\n",
            "       --protocol-directories      use protocol name in directories\n",
            "  -P,  --directory-prefix=PREFIX   save files to PREFIX/..\n",
            "       --cut-dirs=NUMBER           ignore NUMBER remote directory components\n",
            "\n",
            "HTTP options:\n",
            "       --http-user=USER            set http user to USER\n",
            "       --http-password=PASS        set http password to PASS\n",
            "       --no-cache                  disallow server-cached data\n",
            "       --default-page=NAME         change the default page name (normally\n",
            "                                     this is 'index.html'.)\n",
            "  -E,  --adjust-extension          save HTML/CSS documents with proper extensions\n",
            "       --ignore-length             ignore 'Content-Length' header field\n",
            "       --header=STRING             insert STRING among the headers\n",
            "       --max-redirect              maximum redirections allowed per page\n",
            "       --proxy-user=USER           set USER as proxy username\n",
            "       --proxy-password=PASS       set PASS as proxy password\n",
            "       --referer=URL               include 'Referer: URL' header in HTTP request\n",
            "       --save-headers              save the HTTP headers to file\n",
            "  -U,  --user-agent=AGENT          identify as AGENT instead of Wget/VERSION\n",
            "       --no-http-keep-alive        disable HTTP keep-alive (persistent connections)\n",
            "       --no-cookies                don't use cookies\n",
            "       --load-cookies=FILE         load cookies from FILE before session\n",
            "       --save-cookies=FILE         save cookies to FILE after session\n",
            "       --keep-session-cookies      load and save session (non-permanent) cookies\n",
            "       --post-data=STRING          use the POST method; send STRING as the data\n",
            "       --post-file=FILE            use the POST method; send contents of FILE\n",
            "       --method=HTTPMethod         use method \"HTTPMethod\" in the request\n",
            "       --body-data=STRING          send STRING as data. --method MUST be set\n",
            "       --body-file=FILE            send contents of FILE. --method MUST be set\n",
            "       --content-disposition       honor the Content-Disposition header when\n",
            "                                     choosing local file names (EXPERIMENTAL)\n",
            "       --content-on-error          output the received content on server errors\n",
            "       --auth-no-challenge         send Basic HTTP authentication information\n",
            "                                     without first waiting for the server's\n",
            "                                     challenge\n",
            "\n",
            "HTTPS (SSL/TLS) options:\n",
            "       --secure-protocol=PR        choose secure protocol, one of auto, SSLv2,\n",
            "                                     SSLv3, TLSv1, TLSv1_1, TLSv1_2 and PFS\n",
            "       --https-only                only follow secure HTTPS links\n",
            "       --no-check-certificate      don't validate the server's certificate\n",
            "       --certificate=FILE          client certificate file\n",
            "       --certificate-type=TYPE     client certificate type, PEM or DER\n",
            "       --private-key=FILE          private key file\n",
            "       --private-key-type=TYPE     private key type, PEM or DER\n",
            "       --ca-certificate=FILE       file with the bundle of CAs\n",
            "       --ca-directory=DIR          directory where hash list of CAs is stored\n",
            "       --crl-file=FILE             file with bundle of CRLs\n",
            "       --pinnedpubkey=FILE/HASHES  Public key (PEM/DER) file, or any number\n",
            "                                   of base64 encoded sha256 hashes preceded by\n",
            "                                   'sha256//' and separated by ';', to verify\n",
            "                                   peer against\n",
            "       --random-file=FILE          file with random data for seeding the SSL PRNG\n",
            "\n",
            "HSTS options:\n",
            "       --no-hsts                   disable HSTS\n",
            "       --hsts-file                 path of HSTS database (will override default)\n",
            "\n",
            "FTP options:\n",
            "       --ftp-user=USER             set ftp user to USER\n",
            "       --ftp-password=PASS         set ftp password to PASS\n",
            "       --no-remove-listing         don't remove '.listing' files\n",
            "       --no-glob                   turn off FTP file name globbing\n",
            "       --no-passive-ftp            disable the \"passive\" transfer mode\n",
            "       --preserve-permissions      preserve remote file permissions\n",
            "       --retr-symlinks             when recursing, get linked-to files (not dir)\n",
            "\n",
            "FTPS options:\n",
            "       --ftps-implicit                 use implicit FTPS (default port is 990)\n",
            "       --ftps-resume-ssl               resume the SSL/TLS session started in the control connection when\n",
            "                                         opening a data connection\n",
            "       --ftps-clear-data-connection    cipher the control channel only; all the data will be in plaintext\n",
            "       --ftps-fallback-to-ftp          fall back to FTP if FTPS is not supported in the target server\n",
            "WARC options:\n",
            "       --warc-file=FILENAME        save request/response data to a .warc.gz file\n",
            "       --warc-header=STRING        insert STRING into the warcinfo record\n",
            "       --warc-max-size=NUMBER      set maximum size of WARC files to NUMBER\n",
            "       --warc-cdx                  write CDX index files\n",
            "       --warc-dedup=FILENAME       do not store records listed in this CDX file\n",
            "       --no-warc-digests           do not calculate SHA1 digests\n",
            "       --no-warc-keep-log          do not store the log file in a WARC record\n",
            "       --warc-tempdir=DIRECTORY    location for temporary files created by the\n",
            "                                     WARC writer\n",
            "\n",
            "Recursive download:\n",
            "  -r,  --recursive                 specify recursive download\n",
            "  -l,  --level=NUMBER              maximum recursion depth (inf or 0 for infinite)\n",
            "       --delete-after              delete files locally after downloading them\n",
            "  -k,  --convert-links             make links in downloaded HTML or CSS point to\n",
            "                                     local files\n",
            "       --convert-file-only         convert the file part of the URLs only (usually known as the basename)\n",
            "       --backups=N                 before writing file X, rotate up to N backup files\n",
            "  -K,  --backup-converted          before converting file X, back up as X.orig\n",
            "  -m,  --mirror                    shortcut for -N -r -l inf --no-remove-listing\n",
            "  -p,  --page-requisites           get all images, etc. needed to display HTML page\n",
            "       --strict-comments           turn on strict (SGML) handling of HTML comments\n",
            "\n",
            "Recursive accept/reject:\n",
            "  -A,  --accept=LIST               comma-separated list of accepted extensions\n",
            "  -R,  --reject=LIST               comma-separated list of rejected extensions\n",
            "       --accept-regex=REGEX        regex matching accepted URLs\n",
            "       --reject-regex=REGEX        regex matching rejected URLs\n",
            "       --regex-type=TYPE           regex type (posix|pcre)\n",
            "  -D,  --domains=LIST              comma-separated list of accepted domains\n",
            "       --exclude-domains=LIST      comma-separated list of rejected domains\n",
            "       --follow-ftp                follow FTP links from HTML documents\n",
            "       --follow-tags=LIST          comma-separated list of followed HTML tags\n",
            "       --ignore-tags=LIST          comma-separated list of ignored HTML tags\n",
            "  -H,  --span-hosts                go to foreign hosts when recursive\n",
            "  -L,  --relative                  follow relative links only\n",
            "  -I,  --include-directories=LIST  list of allowed directories\n",
            "       --trust-server-names        use the name specified by the redirection\n",
            "                                     URL's last component\n",
            "  -X,  --exclude-directories=LIST  list of excluded directories\n",
            "  -np, --no-parent                 don't ascend to the parent directory\n",
            "\n",
            "Mail bug reports and suggestions to <bug-wget@gnu.org>\n"
          ],
          "name": "stdout"
        }
      ]
    },
    {
      "cell_type": "code",
      "metadata": {
        "colab": {
          "base_uri": "https://localhost:8080/"
        },
        "id": "KHBHlAGU67oM",
        "outputId": "83383248-a018-4e57-d7e8-3fbfe43bcc01"
      },
      "source": [
        "\"\"\"\n",
        "dfCam.iloc[0:2*11*3, 0:1]\n",
        "dfCam = df.loc[\"Subject1Activity1Trial1\":\"Subject1Activity2Trial3\", \"Camera1\"]\n",
        "dfCam\n",
        "\"\"\""
      ],
      "execution_count": 57,
      "outputs": [
        {
          "output_type": "execute_result",
          "data": {
            "text/plain": [
              "Subject1Activity1Trial1    https://drive.google.com/a/up.edu.mx/uc?id=1x-...\n",
              "Subject1Activity1Trial2    https://drive.google.com/a/up.edu.mx/uc?id=1x8...\n",
              "Subject1Activity1Trial3    https://drive.google.com/a/up.edu.mx/uc?id=1ha...\n",
              "Subject1Activity2Trial1    https://drive.google.com/a/up.edu.mx/uc?id=1ak...\n",
              "Subject1Activity2Trial2    https://drive.google.com/a/up.edu.mx/uc?id=1ye...\n",
              "Subject1Activity2Trial3    https://drive.google.com/a/up.edu.mx/uc?id=1v-...\n",
              "Name: Camera1, dtype: object"
            ]
          },
          "metadata": {
            "tags": []
          },
          "execution_count": 57
        }
      ]
    },
    {
      "cell_type": "code",
      "metadata": {
        "id": "dvPv9-5BjMvC",
        "colab": {
          "base_uri": "https://localhost:8080/"
        },
        "outputId": "83922fcb-82bb-47ff-a2ab-e7fa94c710cc"
      },
      "source": [
        "# !wget \"https://drive.google.com/a/up.edu.mx/uc?id=1XhfQsp7mwObvyA3zlHpnTHjQ-xY5zetY&export=download\" -O /content/data/Subject11Activity2Trial2.zip\n",
        "\n",
        "!wget \"https://drive.google.com/a/up.edu.mx/uc?id=1XhfQsp7mwObvyA3zlHpnTHjQ-xY5zetY&export=download\" -O Subject11Activity2Trial2.zip\n"
      ],
      "execution_count": null,
      "outputs": [
        {
          "output_type": "stream",
          "text": [
            "--2020-11-30 10:31:37--  https://drive.google.com/a/up.edu.mx/uc?id=1XhfQsp7mwObvyA3zlHpnTHjQ-xY5zetY&export=download\n",
            "Resolving drive.google.com (drive.google.com)... 74.125.203.101, 74.125.203.113, 74.125.203.139, ...\n",
            "Connecting to drive.google.com (drive.google.com)|74.125.203.101|:443... connected.\n",
            "HTTP request sent, awaiting response... 302 Moved Temporarily\n",
            "Location: https://doc-10-7s-docs.googleusercontent.com/docs/securesc/ha0ro937gcuc7l7deffksulhg5h7mbp1/ai2090a3fglv5m155668b6ads3s1gq83/1606732275000/07668329024273264871/*/1XhfQsp7mwObvyA3zlHpnTHjQ-xY5zetY?e=download [following]\n",
            "Warning: wildcards not supported in HTTP.\n",
            "--2020-11-30 10:31:43--  https://doc-10-7s-docs.googleusercontent.com/docs/securesc/ha0ro937gcuc7l7deffksulhg5h7mbp1/ai2090a3fglv5m155668b6ads3s1gq83/1606732275000/07668329024273264871/*/1XhfQsp7mwObvyA3zlHpnTHjQ-xY5zetY?e=download\n",
            "Resolving doc-10-7s-docs.googleusercontent.com (doc-10-7s-docs.googleusercontent.com)... 74.125.203.132, 2404:6800:4008:c03::84\n",
            "Connecting to doc-10-7s-docs.googleusercontent.com (doc-10-7s-docs.googleusercontent.com)|74.125.203.132|:443... connected.\n",
            "HTTP request sent, awaiting response... 200 OK\n",
            "Length: unspecified [file/zip]\n",
            "Saving to: ‘Subject11Activity2Trial2.zip’\n",
            "\n",
            "Subject11Activity2T     [        <=>         ]  90.69M  60.4MB/s    in 1.5s    \n",
            "\n",
            "2020-11-30 10:31:45 (60.4 MB/s) - ‘Subject11Activity2Trial2.zip’ saved [95095344]\n",
            "\n"
          ],
          "name": "stdout"
        }
      ]
    },
    {
      "cell_type": "code",
      "metadata": {
        "colab": {
          "base_uri": "https://localhost:8080/"
        },
        "id": "1yugxP_OtqOd",
        "outputId": "50a4a647-06d0-4659-cdcb-c2afc934cee4"
      },
      "source": [
        "!mkdir /content/data/Subject11Activity2Trial2"
      ],
      "execution_count": null,
      "outputs": [
        {
          "output_type": "stream",
          "text": [
            "mkdir: cannot create directory ‘/content/data/Subject11Activity2Trial2’: File exists\n"
          ],
          "name": "stdout"
        }
      ]
    },
    {
      "cell_type": "code",
      "metadata": {
        "id": "d4dfrwaolXbG",
        "colab": {
          "base_uri": "https://localhost:8080/"
        },
        "outputId": "97e1c251-74b8-4789-90c6-0bc3b471cf97"
      },
      "source": [
        "# !unzip Subject11Activity2Trial2.zip -d uz\n",
        "\n",
        "!unzip \"/content/gdrive/MyDrive/B2DL-Research/Fall-Detection/Datasets/UP-Fall Detection/Subject11Activity2Trial2.zip\" -d /content/data/Subject11Activity2Trial2/\n"
      ],
      "execution_count": null,
      "outputs": [
        {
          "output_type": "stream",
          "text": [
            "Archive:  /content/gdrive/MyDrive/B2DL-Research/Fall-Detection/Datasets/UP-Fall Detection/Subject11Activity2Trial2.zip\n",
            "  inflating: /content/data/Subject11Activity2Trial2/2018-07-10T10_36_40.158337.png  \n",
            "  inflating: /content/data/Subject11Activity2Trial2/2018-07-10T10_36_40.203457.png  \n",
            "  inflating: /content/data/Subject11Activity2Trial2/2018-07-10T10_36_40.248583.png  \n",
            "  inflating: /content/data/Subject11Activity2Trial2/2018-07-10T10_36_40.296712.png  \n",
            "  inflating: /content/data/Subject11Activity2Trial2/2018-07-10T10_36_40.342838.png  \n",
            "  inflating: /content/data/Subject11Activity2Trial2/2018-07-10T10_36_40.389964.png  \n",
            "  inflating: /content/data/Subject11Activity2Trial2/2018-07-10T10_36_40.443110.png  \n",
            "  inflating: /content/data/Subject11Activity2Trial2/2018-07-10T10_36_40.498257.png  \n",
            "  inflating: /content/data/Subject11Activity2Trial2/2018-07-10T10_36_40.546389.png  \n",
            "  inflating: /content/data/Subject11Activity2Trial2/2018-07-10T10_36_40.669215.png  \n",
            "  inflating: /content/data/Subject11Activity2Trial2/2018-07-10T10_36_40.722858.png  \n",
            "  inflating: /content/data/Subject11Activity2Trial2/2018-07-10T10_36_40.766476.png  \n",
            "  inflating: /content/data/Subject11Activity2Trial2/2018-07-10T10_36_40.828142.png  \n",
            "  inflating: /content/data/Subject11Activity2Trial2/2018-07-10T10_36_40.875268.png  \n",
            "  inflating: /content/data/Subject11Activity2Trial2/2018-07-10T10_36_40.920390.png  \n",
            "  inflating: /content/data/Subject11Activity2Trial2/2018-07-10T10_36_40.969521.png  \n",
            "  inflating: /content/data/Subject11Activity2Trial2/2018-07-10T10_36_41.015143.png  \n",
            "  inflating: /content/data/Subject11Activity2Trial2/2018-07-10T10_36_41.060263.png  \n",
            "  inflating: /content/data/Subject11Activity2Trial2/2018-07-10T10_36_41.118418.png  \n",
            "  inflating: /content/data/Subject11Activity2Trial2/2018-07-10T10_36_41.175069.png  \n",
            "  inflating: /content/data/Subject11Activity2Trial2/2018-07-10T10_36_41.222695.png  \n",
            "  inflating: /content/data/Subject11Activity2Trial2/2018-07-10T10_36_41.269320.png  \n",
            "  inflating: /content/data/Subject11Activity2Trial2/2018-07-10T10_36_41.311434.png  \n",
            "  inflating: /content/data/Subject11Activity2Trial2/2018-07-10T10_36_41.357557.png  \n",
            "  inflating: /content/data/Subject11Activity2Trial2/2018-07-10T10_36_41.421733.png  \n",
            "  inflating: /content/data/Subject11Activity2Trial2/2018-07-10T10_36_41.470867.png  \n",
            "  inflating: /content/data/Subject11Activity2Trial2/2018-07-10T10_36_41.516993.png  \n",
            "  inflating: /content/data/Subject11Activity2Trial2/2018-07-10T10_36_41.561110.png  \n",
            "  inflating: /content/data/Subject11Activity2Trial2/2018-07-10T10_36_41.607238.png  \n",
            "  inflating: /content/data/Subject11Activity2Trial2/2018-07-10T10_36_41.657371.png  \n",
            "  inflating: /content/data/Subject11Activity2Trial2/2018-07-10T10_36_41.717538.png  \n",
            "  inflating: /content/data/Subject11Activity2Trial2/2018-07-10T10_36_41.765667.png  \n",
            "  inflating: /content/data/Subject11Activity2Trial2/2018-07-10T10_36_41.811790.png  \n",
            "  inflating: /content/data/Subject11Activity2Trial2/2018-07-10T10_36_41.858916.png  \n",
            "  inflating: /content/data/Subject11Activity2Trial2/2018-07-10T10_36_41.905540.png  \n",
            "  inflating: /content/data/Subject11Activity2Trial2/2018-07-10T10_36_42.050429.png  \n",
            "  inflating: /content/data/Subject11Activity2Trial2/2018-07-10T10_36_42.101571.png  \n",
            "  inflating: /content/data/Subject11Activity2Trial2/2018-07-10T10_36_42.156717.png  \n",
            "  inflating: /content/data/Subject11Activity2Trial2/2018-07-10T10_36_42.204850.png  \n",
            "  inflating: /content/data/Subject11Activity2Trial2/2018-07-10T10_36_42.249970.png  \n",
            "  inflating: /content/data/Subject11Activity2Trial2/2018-07-10T10_36_42.312142.png  \n",
            "  inflating: /content/data/Subject11Activity2Trial2/2018-07-10T10_36_42.360270.png  \n",
            "  inflating: /content/data/Subject11Activity2Trial2/2018-07-10T10_36_42.415422.png  \n",
            "  inflating: /content/data/Subject11Activity2Trial2/2018-07-10T10_36_42.466558.png  \n",
            "  inflating: /content/data/Subject11Activity2Trial2/2018-07-10T10_36_42.513687.png  \n",
            "  inflating: /content/data/Subject11Activity2Trial2/2018-07-10T10_36_42.561314.png  \n",
            "  inflating: /content/data/Subject11Activity2Trial2/2018-07-10T10_36_42.608941.png  \n",
            "  inflating: /content/data/Subject11Activity2Trial2/2018-07-10T10_36_42.653801.png  \n",
            "  inflating: /content/data/Subject11Activity2Trial2/2018-07-10T10_36_42.712959.png  \n",
            "  inflating: /content/data/Subject11Activity2Trial2/2018-07-10T10_36_42.769113.png  \n",
            "  inflating: /content/data/Subject11Activity2Trial2/2018-07-10T10_36_42.811226.png  \n",
            "  inflating: /content/data/Subject11Activity2Trial2/2018-07-10T10_36_42.859858.png  \n",
            "  inflating: /content/data/Subject11Activity2Trial2/2018-07-10T10_36_42.905980.png  \n",
            "  inflating: /content/data/Subject11Activity2Trial2/2018-07-10T10_36_42.954609.png  \n",
            "  inflating: /content/data/Subject11Activity2Trial2/2018-07-10T10_36_43.007250.png  \n",
            "  inflating: /content/data/Subject11Activity2Trial2/2018-07-10T10_36_43.060895.png  \n",
            "  inflating: /content/data/Subject11Activity2Trial2/2018-07-10T10_36_43.108020.png  \n",
            "  inflating: /content/data/Subject11Activity2Trial2/2018-07-10T10_36_43.155651.png  \n",
            "  inflating: /content/data/Subject11Activity2Trial2/2018-07-10T10_36_43.200270.png  \n",
            "  inflating: /content/data/Subject11Activity2Trial2/2018-07-10T10_36_43.248900.png  \n",
            "  inflating: /content/data/Subject11Activity2Trial2/2018-07-10T10_36_43.440913.png  \n",
            "  inflating: /content/data/Subject11Activity2Trial2/2018-07-10T10_36_43.482023.png  \n",
            "  inflating: /content/data/Subject11Activity2Trial2/2018-07-10T10_36_43.544194.png  \n",
            "  inflating: /content/data/Subject11Activity2Trial2/2018-07-10T10_36_43.593327.png  \n",
            "  inflating: /content/data/Subject11Activity2Trial2/2018-07-10T10_36_43.638449.png  \n",
            "  inflating: /content/data/Subject11Activity2Trial2/2018-07-10T10_36_43.684572.png  \n",
            "  inflating: /content/data/Subject11Activity2Trial2/2018-07-10T10_36_43.738721.png  \n",
            "  inflating: /content/data/Subject11Activity2Trial2/2018-07-10T10_36_43.778828.png  \n",
            "  inflating: /content/data/Subject11Activity2Trial2/2018-07-10T10_36_43.824955.png  \n",
            "  inflating: /content/data/Subject11Activity2Trial2/2018-07-10T10_36_43.874087.png  \n",
            "  inflating: /content/data/Subject11Activity2Trial2/2018-07-10T10_36_43.920214.png  \n",
            "  inflating: /content/data/Subject11Activity2Trial2/2018-07-10T10_36_43.966337.png  \n",
            "  inflating: /content/data/Subject11Activity2Trial2/2018-07-10T10_36_44.019483.png  \n",
            "  inflating: /content/data/Subject11Activity2Trial2/2018-07-10T10_36_44.059590.png  \n",
            "  inflating: /content/data/Subject11Activity2Trial2/2018-07-10T10_36_44.107723.png  \n",
            "  inflating: /content/data/Subject11Activity2Trial2/2018-07-10T10_36_44.155851.png  \n",
            "  inflating: /content/data/Subject11Activity2Trial2/2018-07-10T10_36_44.199971.png  \n",
            "  inflating: /content/data/Subject11Activity2Trial2/2018-07-10T10_36_44.249104.png  \n",
            "  inflating: /content/data/Subject11Activity2Trial2/2018-07-10T10_36_44.300242.png  \n",
            "  inflating: /content/data/Subject11Activity2Trial2/2018-07-10T10_36_44.360405.png  \n",
            "  inflating: /content/data/Subject11Activity2Trial2/2018-07-10T10_36_44.407536.png  \n",
            "  inflating: /content/data/Subject11Activity2Trial2/2018-07-10T10_36_44.454662.png  \n",
            "  inflating: /content/data/Subject11Activity2Trial2/2018-07-10T10_36_44.498782.png  \n",
            "  inflating: /content/data/Subject11Activity2Trial2/2018-07-10T10_36_44.559947.png  \n",
            "  inflating: /content/data/Subject11Activity2Trial2/2018-07-10T10_36_44.621615.png  \n",
            "  inflating: /content/data/Subject11Activity2Trial2/2018-07-10T10_36_44.789570.png  \n",
            "  inflating: /content/data/Subject11Activity2Trial2/2018-07-10T10_36_44.843715.png  \n",
            "  inflating: /content/data/Subject11Activity2Trial2/2018-07-10T10_36_44.892850.png  \n",
            "  inflating: /content/data/Subject11Activity2Trial2/2018-07-10T10_36_44.938973.png  \n",
            "  inflating: /content/data/Subject11Activity2Trial2/2018-07-10T10_36_44.988106.png  \n",
            "  inflating: /content/data/Subject11Activity2Trial2/2018-07-10T10_36_45.046264.png  \n",
            "  inflating: /content/data/Subject11Activity2Trial2/2018-07-10T10_36_45.091393.png  \n",
            "  inflating: /content/data/Subject11Activity2Trial2/2018-07-10T10_36_45.137513.png  \n",
            "  inflating: /content/data/Subject11Activity2Trial2/2018-07-10T10_36_45.187148.png  \n",
            "  inflating: /content/data/Subject11Activity2Trial2/2018-07-10T10_36_45.231769.png  \n",
            "  inflating: /content/data/Subject11Activity2Trial2/2018-07-10T10_36_45.279900.png  \n",
            "  inflating: /content/data/Subject11Activity2Trial2/2018-07-10T10_36_45.336052.png  \n",
            "  inflating: /content/data/Subject11Activity2Trial2/2018-07-10T10_36_45.392206.png  \n",
            "  inflating: /content/data/Subject11Activity2Trial2/2018-07-10T10_36_45.439332.png  \n",
            "  inflating: /content/data/Subject11Activity2Trial2/2018-07-10T10_36_45.485959.png  \n",
            "  inflating: /content/data/Subject11Activity2Trial2/2018-07-10T10_36_45.530580.png  \n",
            "  inflating: /content/data/Subject11Activity2Trial2/2018-07-10T10_36_45.577708.png  \n",
            "  inflating: /content/data/Subject11Activity2Trial2/2018-07-10T10_36_45.641882.png  \n",
            "  inflating: /content/data/Subject11Activity2Trial2/2018-07-10T10_36_45.701543.png  \n",
            "  inflating: /content/data/Subject11Activity2Trial2/2018-07-10T10_36_45.748669.png  \n",
            "  inflating: /content/data/Subject11Activity2Trial2/2018-07-10T10_36_45.794791.png  \n",
            "  inflating: /content/data/Subject11Activity2Trial2/2018-07-10T10_36_45.842920.png  \n",
            "  inflating: /content/data/Subject11Activity2Trial2/2018-07-10T10_36_45.890547.png  \n",
            "  inflating: /content/data/Subject11Activity2Trial2/2018-07-10T10_36_45.935667.png  \n",
            "  inflating: /content/data/Subject11Activity2Trial2/2018-07-10T10_36_45.982291.png  \n",
            "  inflating: /content/data/Subject11Activity2Trial2/2018-07-10T10_36_46.128182.png  \n",
            "  inflating: /content/data/Subject11Activity2Trial2/2018-07-10T10_36_46.192357.png  \n",
            "  inflating: /content/data/Subject11Activity2Trial2/2018-07-10T10_36_46.233468.png  \n",
            "  inflating: /content/data/Subject11Activity2Trial2/2018-07-10T10_36_46.284611.png  \n",
            "  inflating: /content/data/Subject11Activity2Trial2/2018-07-10T10_36_46.348781.png  \n",
            "  inflating: /content/data/Subject11Activity2Trial2/2018-07-10T10_36_46.392400.png  \n",
            "  inflating: /content/data/Subject11Activity2Trial2/2018-07-10T10_36_46.436016.png  \n",
            "  inflating: /content/data/Subject11Activity2Trial2/2018-07-10T10_36_46.494672.png  \n",
            "  inflating: /content/data/Subject11Activity2Trial2/2018-07-10T10_36_46.571377.png  \n",
            "  inflating: /content/data/Subject11Activity2Trial2/2018-07-10T10_36_46.630033.png  \n",
            "  inflating: /content/data/Subject11Activity2Trial2/2018-07-10T10_36_46.670140.png  \n",
            "  inflating: /content/data/Subject11Activity2Trial2/2018-07-10T10_36_46.717769.png  \n",
            "  inflating: /content/data/Subject11Activity2Trial2/2018-07-10T10_36_46.766900.png  \n",
            "  inflating: /content/data/Subject11Activity2Trial2/2018-07-10T10_36_46.810637.png  \n",
            "  inflating: /content/data/Subject11Activity2Trial2/2018-07-10T10_36_46.878321.png  \n",
            "  inflating: /content/data/Subject11Activity2Trial2/2018-07-10T10_36_46.919934.png  \n",
            "  inflating: /content/data/Subject11Activity2Trial2/2018-07-10T10_36_46.968062.png  \n",
            "  inflating: /content/data/Subject11Activity2Trial2/2018-07-10T10_36_47.014689.png  \n",
            "  inflating: /content/data/Subject11Activity2Trial2/2018-07-10T10_36_47.080866.png  \n",
            "  inflating: /content/data/Subject11Activity2Trial2/2018-07-10T10_36_47.127493.png  \n",
            "  inflating: /content/data/Subject11Activity2Trial2/2018-07-10T10_36_47.176626.png  \n",
            "  inflating: /content/data/Subject11Activity2Trial2/2018-07-10T10_36_47.238794.png  \n",
            "  inflating: /content/data/Subject11Activity2Trial2/2018-07-10T10_36_47.294444.png  \n",
            "  inflating: /content/data/Subject11Activity2Trial2/2018-07-10T10_36_47.343076.png  \n",
            "  inflating: /content/data/Subject11Activity2Trial2/2018-07-10T10_36_47.388197.png  \n",
            "  inflating: /content/data/Subject11Activity2Trial2/2018-07-10T10_36_47.529583.png  \n",
            "  inflating: /content/data/Subject11Activity2Trial2/2018-07-10T10_36_47.583728.png  \n",
            "  inflating: /content/data/Subject11Activity2Trial2/2018-07-10T10_36_47.643893.png  \n",
            "  inflating: /content/data/Subject11Activity2Trial2/2018-07-10T10_36_47.685003.png  \n",
            "  inflating: /content/data/Subject11Activity2Trial2/2018-07-10T10_36_47.737146.png  \n",
            "  inflating: /content/data/Subject11Activity2Trial2/2018-07-10T10_36_47.780261.png  \n",
            "  inflating: /content/data/Subject11Activity2Trial2/2018-07-10T10_36_47.835413.png  \n",
            "  inflating: /content/data/Subject11Activity2Trial2/2018-07-10T10_36_47.878528.png  \n",
            "  inflating: /content/data/Subject11Activity2Trial2/2018-07-10T10_36_47.939192.png  \n",
            "  inflating: /content/data/Subject11Activity2Trial2/2018-07-10T10_36_47.986819.png  \n",
            "  inflating: /content/data/Subject11Activity2Trial2/2018-07-10T10_36_48.034947.png  \n",
            "  inflating: /content/data/Subject11Activity2Trial2/2018-07-10T10_36_48.078564.png  \n",
            "  inflating: /content/data/Subject11Activity2Trial2/2018-07-10T10_36_48.129199.png  \n",
            "  inflating: /content/data/Subject11Activity2Trial2/2018-07-10T10_36_48.183344.png  \n",
            "  inflating: /content/data/Subject11Activity2Trial2/2018-07-10T10_36_48.246009.png  \n",
            "  inflating: /content/data/Subject11Activity2Trial2/2018-07-10T10_36_48.294641.png  \n",
            "  inflating: /content/data/Subject11Activity2Trial2/2018-07-10T10_36_48.341767.png  \n",
            "  inflating: /content/data/Subject11Activity2Trial2/2018-07-10T10_36_48.397922.png  \n",
            "  inflating: /content/data/Subject11Activity2Trial2/2018-07-10T10_36_48.440034.png  \n",
            "  inflating: /content/data/Subject11Activity2Trial2/2018-07-10T10_36_48.493178.png  \n",
            "  inflating: /content/data/Subject11Activity2Trial2/2018-07-10T10_36_48.544816.png  \n",
            "  inflating: /content/data/Subject11Activity2Trial2/2018-07-10T10_36_48.595952.png  \n",
            "  inflating: /content/data/Subject11Activity2Trial2/2018-07-10T10_36_48.639572.png  \n",
            "  inflating: /content/data/Subject11Activity2Trial2/2018-07-10T10_36_48.694718.png  \n",
            "  inflating: /content/data/Subject11Activity2Trial2/2018-07-10T10_36_48.733828.png  \n",
            "  inflating: /content/data/Subject11Activity2Trial2/2018-07-10T10_36_48.888798.png  \n",
            "  inflating: /content/data/Subject11Activity2Trial2/2018-07-10T10_36_48.934929.png  \n",
            "  inflating: /content/data/Subject11Activity2Trial2/2018-07-10T10_36_48.982052.png  \n",
            "  inflating: /content/data/Subject11Activity2Trial2/2018-07-10T10_36_49.030185.png  \n",
            "  inflating: /content/data/Subject11Activity2Trial2/2018-07-10T10_36_49.075306.png  \n",
            "  inflating: /content/data/Subject11Activity2Trial2/2018-07-10T10_36_49.124442.png  \n",
            "  inflating: /content/data/Subject11Activity2Trial2/2018-07-10T10_36_49.179588.png  \n",
            "  inflating: /content/data/Subject11Activity2Trial2/2018-07-10T10_36_49.235743.png  \n",
            "  inflating: /content/data/Subject11Activity2Trial2/2018-07-10T10_36_49.278857.png  \n",
            "  inflating: /content/data/Subject11Activity2Trial2/2018-07-10T10_36_49.332004.png  \n",
            "  inflating: /content/data/Subject11Activity2Trial2/2018-07-10T10_36_49.376121.png  \n",
            "  inflating: /content/data/Subject11Activity2Trial2/2018-07-10T10_36_49.425259.png  \n",
            "  inflating: /content/data/Subject11Activity2Trial2/2018-07-10T10_36_49.479402.png  \n",
            "  inflating: /content/data/Subject11Activity2Trial2/2018-07-10T10_36_49.538564.png  \n",
            "  inflating: /content/data/Subject11Activity2Trial2/2018-07-10T10_36_49.591705.png  \n",
            "  inflating: /content/data/Subject11Activity2Trial2/2018-07-10T10_36_49.639839.png  \n",
            "  inflating: /content/data/Subject11Activity2Trial2/2018-07-10T10_36_49.687967.png  \n",
            "  inflating: /content/data/Subject11Activity2Trial2/2018-07-10T10_36_49.735098.png  \n",
            "  inflating: /content/data/Subject11Activity2Trial2/2018-07-10T10_36_49.789242.png  \n",
            "  inflating: /content/data/Subject11Activity2Trial2/2018-07-10T10_36_49.844892.png  \n",
            "  inflating: /content/data/Subject11Activity2Trial2/2018-07-10T10_36_49.891015.png  \n",
            "  inflating: /content/data/Subject11Activity2Trial2/2018-07-10T10_36_49.936136.png  \n",
            "  inflating: /content/data/Subject11Activity2Trial2/2018-07-10T10_36_49.985768.png  \n",
            "  inflating: /content/data/Subject11Activity2Trial2/2018-07-10T10_36_50.031891.png  \n",
            "  inflating: /content/data/Subject11Activity2Trial2/2018-07-10T10_36_50.086035.png  \n"
          ],
          "name": "stdout"
        }
      ]
    }
  ]
}